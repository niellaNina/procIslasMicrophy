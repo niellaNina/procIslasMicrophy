{
 "cells": [
  {
   "cell_type": "code",
   "execution_count": 1,
   "id": "2a120ea8-403e-4afa-9ec0-a5b652280d09",
   "metadata": {},
   "outputs": [],
   "source": [
    "import xarray as xr"
   ]
  },
  {
   "cell_type": "code",
   "execution_count": 14,
   "id": "5852096d-fbea-42d6-9ea8-680f2df670a4",
   "metadata": {},
   "outputs": [],
   "source": [
    "# function for joining TODO: move to separate file (Preprocessing)\n",
    "def join_cdp_cip_ds(flight: str, cip_path: str, cdp_path: str) -> xr.Dataset :\n",
    "    \"\"\" Joins the CIP and CDP netCDFs on CIP time\n",
    "\n",
    "    Parameters\n",
    "    ----------\n",
    "    flight\n",
    "        A string representing the flightid (islasid) of the files\n",
    "    cip_path\n",
    "        The path to where the CIP-netCDFs are located\n",
    "    cdp_path\n",
    "        The path to where the CDP-netCDFs are located\n",
    "    save_path\n",
    "        The path to where the joint-netCDF will be stored\n",
    "\n",
    "    Returns\n",
    "    -------\n",
    "    microphy_ds\n",
    "        An xarray with updated attributes of the joined CIP and CDP netCDF.\n",
    "        Joined on sample time from the CIP netCDF file.\n",
    "    \"\"\"\n",
    "\n",
    "    # Import packages\n",
    "    import xarray as xr\n",
    "    from datetime import date\n",
    "    import glob\n",
    "\n",
    "    # Import local functions\n",
    "    import functions\n",
    "\n",
    "    # read in data\n",
    "    # TODO: handle more than one file for flight\n",
    "    cdp_file = glob.glob(cdp_path + f'*{flight}.nc')\n",
    "    cip_file = glob.glob(cip_path + f'*{flight}.nc')\n",
    "\n",
    "    cdp_ds = xr.open_dataset(cdp_file[0])\n",
    "    cip_ds = xr.open_dataset(cip_file[0])\n",
    "\n",
    "    #  Remove milliseconds to ease joining\n",
    "    cdp_ds = functions.floor_to_sec_res(cdp_ds, 'time')\n",
    "    cip_ds = functions.floor_to_sec_res(cip_ds, 'time')\n",
    "\n",
    "    # remove any unwanted duplicate values from cdp\n",
    "    cdp_ds = cdp_ds.sel(time=~cdp_ds.get_index(\"time\").duplicated())\n",
    "\n",
    "    # merge the two xarrays on the times from cip.\n",
    "    microphy_ds = xr.merge([cip_ds, cdp_ds],compat='override',join='left')\n",
    "    \n",
    "    # update attrs for variables with parent file\n",
    "    for var_name in cdp_ds.data_vars:\n",
    "        microphy_ds[var_name].attrs.update({\"parent file\":cdp_file[0].split('/')[-1]})\n",
    "        microphy_ds[var_name].attrs.update({\"instrument\":\"CDP\"})\n",
    "    for var_name in cip_ds.data_vars:\n",
    "        microphy_ds[var_name].attrs.update({\"parent file\":cip_file[0].split('/')[-1]})\n",
    "        microphy_ds[var_name].attrs.update({\"instrument\":\"CIP\"})\n",
    "    \n",
    "    # remove dataset attributes\n",
    "    microphy_ds = microphy_ds.drop_attrs(deep = False)\n",
    "    \n",
    "    # set new dataset attributes\n",
    "    microphy_ds.attrs['safireid']=cip_ds.attrs['safireid']\n",
    "    microphy_ds.attrs['islasid']=cip_ds.attrs['islasid'] #NB! duplicated!\n",
    "    microphy_ds.attrs['parent files']=[cip_file[0].split('/')[-1],cdp_file[0].split('/')[-1]]\n",
    "    microphy_ds.attrs['date_modified'] = date.today().strftime(\"%Y-%m-%d\")\n",
    "    microphy_ds.attrs['Joint sample rate (sek)'] = cip_ds.attrs['RATE'] # Todo make check to use the largest value (should always be CIP though)\n",
    "    \n",
    "\n",
    "    # calculate new SV for CDP (that covers the sample rate used for CIP)\n",
    "    # Sample volume: sample area SA * TAS redused * sample time\n",
    "    sa = float(cdp_ds.attrs['Sample Area (mm^2)'])/(1000*1000) # adjust from mm² to m²\n",
    "    st = float(microphy_ds.attrs['Joint sample rate (sek)']) # sample time for the joint dataset\n",
    "    microphy_ds['SV_CDP'] = sa * microphy_ds['TAS reduce'] * st\n",
    "    microphy_ds['SV_CDP'].attrs['name'] = 'Sample volume, joint sample rate'\n",
    "    microphy_ds['SV_CDP'].attrs['unit'] = 'm^3'\n",
    "    microphy_ds['SV_CDP'].attrs['description'] = 'Sample volume calculated with joint sample rate (sample area SA * TAS redused * sample time)'\n",
    "    microphy_ds['SV_CDP'].attrs['parent variables'] = ['TAS reduced']\n",
    "    microphy_ds['SV_CDP'].attrs['parent attributes'] =  ['Joint sample rate (sek)', 'CDP sample area']\n",
    "    microphy_ds['SV_CDP'].attrs['CDP sample area'] = cdp_ds.attrs['Sample Area (mm^2)']\n",
    "    microphy_ds['SV_CDP'].attrs['CDP sample area unit'] = 'mm²'\n",
    "\n",
    "    # set the islas id as a coordinate\n",
    "    islasid = cip_ds.attrs['islasid']\n",
    "    #microphy_ds = microphy_ds.expand_dims('islasid')\n",
    "    #microphy_ds['islasid'] = ('islasid',[islasid])\n",
    "    microphy_ds = microphy_ds.assign_coords({'islasid':islasid})\n",
    "\n",
    "    # close netcdf files\n",
    "    cip_ds.close\n",
    "    cdp_ds.close\n",
    "\n",
    "    return microphy_ds\n"
   ]
  },
  {
   "cell_type": "code",
   "execution_count": 17,
   "id": "f6df46a1-7f78-4fd8-af57-1d62af86010c",
   "metadata": {},
   "outputs": [],
   "source": [
    "# --- File paths\n",
    "\n",
    "# main paths\n",
    "cdp_path = '../Results_2022-islas/Processed/CDP_processed/'\n",
    "#cip_path = '../Results_2022-islas/Processed/CIP_processed/\n",
    "savepath = '../Results_2022-islas/Processed/ISLAS_processed/'\n",
    "\n",
    "# test paths (thrash or move when done)\n",
    "#cip_path = '../Results_2022-islas/temp/'\n",
    "#savepath = '../Results_2022-islas/temp/'\n",
    "cip_path = '../Results_2022-islas/temp/with_MET/'\n"
   ]
  },
  {
   "cell_type": "code",
   "execution_count": 18,
   "id": "fa45c457-fed3-4a81-b96a-058a6153e41a",
   "metadata": {},
   "outputs": [],
   "source": [
    "flights = ['IS22-02','IS22-03','IS22-04','IS22-05','IS22-06','IS22-07','IS22-08','IS22-09','IS22-10','IS22-11']\n",
    "\n",
    "for flight in flights:\n",
    "    microphy_ds = join_cdp_cip_ds(flight,cip_path,cdp_path) # join the cdp and the cip file for the flight\n",
    "\n",
    "    sample_rate = f'{int(microphy_ds.attrs['Joint sample rate (sek)'])}s' #for adding samplerate to filename\n",
    "    \n",
    "    # write to netcdf file\n",
    "    filename = f'microphy_{sample_rate}_{flight}.nc'\n",
    "    file_save_path = savepath + filename\n",
    "    microphy_ds.to_netcdf(path=file_save_path, mode='w', encoding={'time':{'zlib':True}}, format = 'netCDF4', engine='netcdf4')\n"
   ]
  },
  {
   "cell_type": "code",
   "execution_count": 21,
   "id": "72289938-5274-4fa0-af43-bb236021ca58",
   "metadata": {
    "scrolled": true
   },
   "outputs": [
    {
     "data": {
      "text/plain": [
       "array('IS22-11', dtype='<U7')"
      ]
     },
     "execution_count": 21,
     "metadata": {},
     "output_type": "execute_result"
    }
   ],
   "source": [
    "# read in again one of the files:\n",
    "test = xr.open_dataset(file_save_path)\n",
    "test"
   ]
  },
  {
   "cell_type": "code",
   "execution_count": 6,
   "id": "1c95e3c7-ad2e-4a5b-896e-80e96750fd3b",
   "metadata": {},
   "outputs": [
    {
     "name": "stdout",
     "output_type": "stream",
     "text": [
      "Help on function join_cdp_cip_ds in module __main__:\n",
      "\n",
      "join_cdp_cip_ds(flight: str, cip_path: str, cdp_path: str) -> xarray.core.dataset.Dataset\n",
      "    Joins the CIP and CDP netCDFs on CIP time\n",
      "\n",
      "    Parameters\n",
      "    ----------\n",
      "    flight\n",
      "        A string representing the flightid (islasid) of the files\n",
      "    cip_path\n",
      "        The path to where the CIP-netCDFs are located\n",
      "    cdp_path\n",
      "        The path to where the CDP-netCDFs are located\n",
      "    save_path\n",
      "        The path to where the joint-netCDF will be stored\n",
      "\n",
      "    Returns\n",
      "    -------\n",
      "    microphy_ds\n",
      "        An xarray with updated attributes of the joined CIP and CDP netCDF.\n",
      "        Joined on sample time from the CIP netCDF file.\n",
      "\n"
     ]
    }
   ],
   "source": [
    "help(join_cdp_cip_ds)"
   ]
  },
  {
   "cell_type": "code",
   "execution_count": null,
   "id": "49f79968-4ff9-457b-865f-336115294e01",
   "metadata": {},
   "outputs": [],
   "source": []
  }
 ],
 "metadata": {
  "kernelspec": {
   "display_name": "Python 3 (ipykernel)",
   "language": "python",
   "name": "python3"
  },
  "language_info": {
   "codemirror_mode": {
    "name": "ipython",
    "version": 3
   },
   "file_extension": ".py",
   "mimetype": "text/x-python",
   "name": "python",
   "nbconvert_exporter": "python",
   "pygments_lexer": "ipython3",
   "version": "3.12.8"
  }
 },
 "nbformat": 4,
 "nbformat_minor": 5
}
