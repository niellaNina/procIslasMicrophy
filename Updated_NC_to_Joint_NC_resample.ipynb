{
 "cells": [
  {
   "cell_type": "markdown",
   "id": "672e2b4f-53ea-431f-a28f-f416155a921c",
   "metadata": {},
   "source": [
    "# Join updated NC of CDP and CIP data to microphy NC -  resample cdp with mean"
   ]
  },
  {
   "cell_type": "code",
   "execution_count": 2,
   "id": "2a120ea8-403e-4afa-9ec0-a5b652280d09",
   "metadata": {},
   "outputs": [],
   "source": [
    "import xarray as xr\n",
    "import pandas as pd\n",
    "from datetime import date\n",
    "import read_flight_report as rfr\n",
    "import functions"
   ]
  },
  {
   "cell_type": "code",
   "execution_count": 3,
   "id": "322ab7c3-e594-41a8-96a5-80364471c287",
   "metadata": {},
   "outputs": [],
   "source": [
    "# --- Data input\n",
    "flight = 'IS22-08'\n",
    "\n",
    "cdp_file = f'../Results_2022-islas/Processed/CDP_processed/CDP_updated_{flight}.nc'\n",
    "cip_file = f'../Results_2022-islas/Processed/CIP_processed/CIP_update_5s_{flight}.nc'\n",
    "\n",
    "cdp_ds = xr.open_dataset(cdp_file)\n",
    "cip_ds = xr.open_dataset(cip_file)"
   ]
  },
  {
   "cell_type": "code",
   "execution_count": 4,
   "id": "623016eb-a351-4f17-b86c-c79f133b4198",
   "metadata": {},
   "outputs": [
    {
     "name": "stdout",
     "output_type": "stream",
     "text": [
      "CDP max: 2022-03-30T17:00:05.828125000, CDP min: 2022-03-30T13:48:34.875000000\n",
      "CIP max: 2022-03-30T17:00:04.400022000, CIP min: 2022-03-30T13:48:49.400022000\n"
     ]
    }
   ],
   "source": [
    "print(f'CDP max: {cdp_ds['time'].max().values}, CDP min: {cdp_ds['time'].min().values}')\n",
    "print(f'CIP max: {cip_ds['time'].max().values}, CIP min: {cip_ds['time'].min().values}')"
   ]
  },
  {
   "cell_type": "code",
   "execution_count": 7,
   "id": "39d46466-051a-4a9b-b92e-d1e504f1edc3",
   "metadata": {},
   "outputs": [
    {
     "ename": "ValueError",
     "evalue": "Index must be monotonic for resampling",
     "output_type": "error",
     "traceback": [
      "\u001b[0;31m---------------------------------------------------------------------------\u001b[0m",
      "\u001b[0;31mValueError\u001b[0m                                Traceback (most recent call last)",
      "Cell \u001b[0;32mIn[7], line 5\u001b[0m\n\u001b[1;32m      1\u001b[0m \u001b[38;5;66;03m# resample cdp data with mean()\u001b[39;00m\n\u001b[1;32m      2\u001b[0m \u001b[38;5;66;03m# Test with resampled cdp data\u001b[39;00m\n\u001b[1;32m      4\u001b[0m cdp_ds\n\u001b[0;32m----> 5\u001b[0m lwc_da \u001b[38;5;241m=\u001b[39m \u001b[43mcdp_ds\u001b[49m\u001b[43m[\u001b[49m\u001b[38;5;124;43m'\u001b[39;49m\u001b[38;5;124;43mLWC corr\u001b[39;49m\u001b[38;5;124;43m'\u001b[39;49m\u001b[43m]\u001b[49m\u001b[38;5;241;43m.\u001b[39;49m\u001b[43mresample\u001b[49m\u001b[43m(\u001b[49m\u001b[43mtime\u001b[49m\u001b[38;5;241;43m=\u001b[39;49m\u001b[38;5;124;43m'\u001b[39;49m\u001b[38;5;124;43m5s\u001b[39;49m\u001b[38;5;124;43m'\u001b[39;49m\u001b[43m)\u001b[49m\u001b[38;5;241m.\u001b[39mmean() \u001b[38;5;66;03m# resample\u001b[39;00m\n\u001b[1;32m      7\u001b[0m lwc_da\n",
      "File \u001b[0;32m~/miniconda3/envs/microphy/lib/python3.12/site-packages/xarray/util/deprecation_helpers.py:118\u001b[0m, in \u001b[0;36m_deprecate_positional_args.<locals>._decorator.<locals>.inner\u001b[0;34m(*args, **kwargs)\u001b[0m\n\u001b[1;32m    114\u001b[0m     kwargs\u001b[38;5;241m.\u001b[39mupdate(zip_args)\n\u001b[1;32m    116\u001b[0m     \u001b[38;5;28;01mreturn\u001b[39;00m func(\u001b[38;5;241m*\u001b[39margs[:\u001b[38;5;241m-\u001b[39mn_extra_args], \u001b[38;5;241m*\u001b[39m\u001b[38;5;241m*\u001b[39mkwargs)\n\u001b[0;32m--> 118\u001b[0m \u001b[38;5;28;01mreturn\u001b[39;00m \u001b[43mfunc\u001b[49m\u001b[43m(\u001b[49m\u001b[38;5;241;43m*\u001b[39;49m\u001b[43margs\u001b[49m\u001b[43m,\u001b[49m\u001b[43m \u001b[49m\u001b[38;5;241;43m*\u001b[39;49m\u001b[38;5;241;43m*\u001b[39;49m\u001b[43mkwargs\u001b[49m\u001b[43m)\u001b[49m\n",
      "File \u001b[0;32m~/miniconda3/envs/microphy/lib/python3.12/site-packages/xarray/core/dataarray.py:7486\u001b[0m, in \u001b[0;36mDataArray.resample\u001b[0;34m(self, indexer, skipna, closed, label, offset, origin, restore_coord_dims, **indexer_kwargs)\u001b[0m\n\u001b[1;32m   7358\u001b[0m \u001b[38;5;250m\u001b[39m\u001b[38;5;124;03m\"\"\"Returns a Resample object for performing resampling operations.\u001b[39;00m\n\u001b[1;32m   7359\u001b[0m \n\u001b[1;32m   7360\u001b[0m \u001b[38;5;124;03mHandles both downsampling and upsampling. The resampled\u001b[39;00m\n\u001b[0;32m   (...)\u001b[0m\n\u001b[1;32m   7482\u001b[0m \u001b[38;5;124;03m.. [1] https://pandas.pydata.org/pandas-docs/stable/user_guide/timeseries.html#offset-aliases\u001b[39;00m\n\u001b[1;32m   7483\u001b[0m \u001b[38;5;124;03m\"\"\"\u001b[39;00m\n\u001b[1;32m   7484\u001b[0m \u001b[38;5;28;01mfrom\u001b[39;00m\u001b[38;5;250m \u001b[39m\u001b[38;5;21;01mxarray\u001b[39;00m\u001b[38;5;21;01m.\u001b[39;00m\u001b[38;5;21;01mcore\u001b[39;00m\u001b[38;5;21;01m.\u001b[39;00m\u001b[38;5;21;01mresample\u001b[39;00m\u001b[38;5;250m \u001b[39m\u001b[38;5;28;01mimport\u001b[39;00m DataArrayResample\n\u001b[0;32m-> 7486\u001b[0m \u001b[38;5;28;01mreturn\u001b[39;00m \u001b[38;5;28;43mself\u001b[39;49m\u001b[38;5;241;43m.\u001b[39;49m\u001b[43m_resample\u001b[49m\u001b[43m(\u001b[49m\n\u001b[1;32m   7487\u001b[0m \u001b[43m    \u001b[49m\u001b[43mresample_cls\u001b[49m\u001b[38;5;241;43m=\u001b[39;49m\u001b[43mDataArrayResample\u001b[49m\u001b[43m,\u001b[49m\n\u001b[1;32m   7488\u001b[0m \u001b[43m    \u001b[49m\u001b[43mindexer\u001b[49m\u001b[38;5;241;43m=\u001b[39;49m\u001b[43mindexer\u001b[49m\u001b[43m,\u001b[49m\n\u001b[1;32m   7489\u001b[0m \u001b[43m    \u001b[49m\u001b[43mskipna\u001b[49m\u001b[38;5;241;43m=\u001b[39;49m\u001b[43mskipna\u001b[49m\u001b[43m,\u001b[49m\n\u001b[1;32m   7490\u001b[0m \u001b[43m    \u001b[49m\u001b[43mclosed\u001b[49m\u001b[38;5;241;43m=\u001b[39;49m\u001b[43mclosed\u001b[49m\u001b[43m,\u001b[49m\n\u001b[1;32m   7491\u001b[0m \u001b[43m    \u001b[49m\u001b[43mlabel\u001b[49m\u001b[38;5;241;43m=\u001b[39;49m\u001b[43mlabel\u001b[49m\u001b[43m,\u001b[49m\n\u001b[1;32m   7492\u001b[0m \u001b[43m    \u001b[49m\u001b[43moffset\u001b[49m\u001b[38;5;241;43m=\u001b[39;49m\u001b[43moffset\u001b[49m\u001b[43m,\u001b[49m\n\u001b[1;32m   7493\u001b[0m \u001b[43m    \u001b[49m\u001b[43morigin\u001b[49m\u001b[38;5;241;43m=\u001b[39;49m\u001b[43morigin\u001b[49m\u001b[43m,\u001b[49m\n\u001b[1;32m   7494\u001b[0m \u001b[43m    \u001b[49m\u001b[43mrestore_coord_dims\u001b[49m\u001b[38;5;241;43m=\u001b[39;49m\u001b[43mrestore_coord_dims\u001b[49m\u001b[43m,\u001b[49m\n\u001b[1;32m   7495\u001b[0m \u001b[43m    \u001b[49m\u001b[38;5;241;43m*\u001b[39;49m\u001b[38;5;241;43m*\u001b[39;49m\u001b[43mindexer_kwargs\u001b[49m\u001b[43m,\u001b[49m\n\u001b[1;32m   7496\u001b[0m \u001b[43m\u001b[49m\u001b[43m)\u001b[49m\n",
      "File \u001b[0;32m~/miniconda3/envs/microphy/lib/python3.12/site-packages/xarray/core/common.py:1100\u001b[0m, in \u001b[0;36mDataWithCoords._resample\u001b[0;34m(self, resample_cls, indexer, skipna, closed, label, offset, origin, restore_coord_dims, **indexer_kwargs)\u001b[0m\n\u001b[1;32m   1093\u001b[0m \u001b[38;5;28;01melse\u001b[39;00m:\n\u001b[1;32m   1094\u001b[0m     \u001b[38;5;28;01mraise\u001b[39;00m \u001b[38;5;167;01mValueError\u001b[39;00m(\n\u001b[1;32m   1095\u001b[0m         \u001b[38;5;124m\"\u001b[39m\u001b[38;5;124mfreq must be an object of type \u001b[39m\u001b[38;5;124m'\u001b[39m\u001b[38;5;124mstr\u001b[39m\u001b[38;5;124m'\u001b[39m\u001b[38;5;124m, \u001b[39m\u001b[38;5;124m'\u001b[39m\u001b[38;5;124mdatetime.timedelta\u001b[39m\u001b[38;5;124m'\u001b[39m\u001b[38;5;124m, \u001b[39m\u001b[38;5;124m\"\u001b[39m\n\u001b[1;32m   1096\u001b[0m         \u001b[38;5;124m\"\u001b[39m\u001b[38;5;124m'\u001b[39m\u001b[38;5;124mpandas.Timedelta\u001b[39m\u001b[38;5;124m'\u001b[39m\u001b[38;5;124m, \u001b[39m\u001b[38;5;124m'\u001b[39m\u001b[38;5;124mpandas.DateOffset\u001b[39m\u001b[38;5;124m'\u001b[39m\u001b[38;5;124m, or \u001b[39m\u001b[38;5;124m'\u001b[39m\u001b[38;5;124mTimeResampler\u001b[39m\u001b[38;5;124m'\u001b[39m\u001b[38;5;124m. \u001b[39m\u001b[38;5;124m\"\u001b[39m\n\u001b[1;32m   1097\u001b[0m         \u001b[38;5;124mf\u001b[39m\u001b[38;5;124m\"\u001b[39m\u001b[38;5;124mReceived \u001b[39m\u001b[38;5;132;01m{\u001b[39;00m\u001b[38;5;28mtype\u001b[39m(freq)\u001b[38;5;132;01m}\u001b[39;00m\u001b[38;5;124m instead.\u001b[39m\u001b[38;5;124m\"\u001b[39m\n\u001b[1;32m   1098\u001b[0m     )\n\u001b[0;32m-> 1100\u001b[0m rgrouper \u001b[38;5;241m=\u001b[39m \u001b[43mResolvedGrouper\u001b[49m\u001b[43m(\u001b[49m\u001b[43mgrouper\u001b[49m\u001b[43m,\u001b[49m\u001b[43m \u001b[49m\u001b[43mgroup\u001b[49m\u001b[43m,\u001b[49m\u001b[43m \u001b[49m\u001b[38;5;28;43mself\u001b[39;49m\u001b[43m,\u001b[49m\u001b[43m \u001b[49m\u001b[43meagerly_compute_group\u001b[49m\u001b[38;5;241;43m=\u001b[39;49m\u001b[38;5;28;43;01mFalse\u001b[39;49;00m\u001b[43m)\u001b[49m\n\u001b[1;32m   1102\u001b[0m \u001b[38;5;28;01mreturn\u001b[39;00m resample_cls(\n\u001b[1;32m   1103\u001b[0m     \u001b[38;5;28mself\u001b[39m,\n\u001b[1;32m   1104\u001b[0m     (rgrouper,),\n\u001b[0;32m   (...)\u001b[0m\n\u001b[1;32m   1107\u001b[0m     restore_coord_dims\u001b[38;5;241m=\u001b[39mrestore_coord_dims,\n\u001b[1;32m   1108\u001b[0m )\n",
      "File \u001b[0;32m<string>:7\u001b[0m, in \u001b[0;36m__init__\u001b[0;34m(self, grouper, group, obj, eagerly_compute_group)\u001b[0m\n",
      "File \u001b[0;32m~/miniconda3/envs/microphy/lib/python3.12/site-packages/xarray/core/groupby.py:356\u001b[0m, in \u001b[0;36mResolvedGrouper.__post_init__\u001b[0;34m(self)\u001b[0m\n\u001b[1;32m    344\u001b[0m         emit_user_level_warning(\n\u001b[1;32m    345\u001b[0m             \u001b[38;5;124mf\u001b[39m\u001b[38;5;124m\"\"\"\u001b[39m\u001b[38;5;124m\"\u001b[39m\u001b[38;5;124mEagerly computing the DataArray you\u001b[39m\u001b[38;5;124m'\u001b[39m\u001b[38;5;124mre grouping by (\u001b[39m\u001b[38;5;132;01m{\u001b[39;00m\u001b[38;5;28mself\u001b[39m\u001b[38;5;241m.\u001b[39mgroup\u001b[38;5;241m.\u001b[39mname\u001b[38;5;132;01m!r}\u001b[39;00m\u001b[38;5;124m) \u001b[39m\u001b[38;5;124m\"\u001b[39m\n\u001b[1;32m    346\u001b[0m \u001b[38;5;124m            is deprecated and will raise an error in v2025.05.0.\u001b[39m\n\u001b[0;32m   (...)\u001b[0m\n\u001b[1;32m    352\u001b[0m             \u001b[38;5;167;01mDeprecationWarning\u001b[39;00m,\n\u001b[1;32m    353\u001b[0m         )\n\u001b[1;32m    354\u001b[0m         \u001b[38;5;28mself\u001b[39m\u001b[38;5;241m.\u001b[39mgroup \u001b[38;5;241m=\u001b[39m \u001b[38;5;28mself\u001b[39m\u001b[38;5;241m.\u001b[39mgroup\u001b[38;5;241m.\u001b[39mcompute()\n\u001b[0;32m--> 356\u001b[0m \u001b[38;5;28mself\u001b[39m\u001b[38;5;241m.\u001b[39mencoded \u001b[38;5;241m=\u001b[39m \u001b[38;5;28;43mself\u001b[39;49m\u001b[38;5;241;43m.\u001b[39;49m\u001b[43mgrouper\u001b[49m\u001b[38;5;241;43m.\u001b[39;49m\u001b[43mfactorize\u001b[49m\u001b[43m(\u001b[49m\u001b[38;5;28;43mself\u001b[39;49m\u001b[38;5;241;43m.\u001b[39;49m\u001b[43mgroup\u001b[49m\u001b[43m)\u001b[49m\n",
      "File \u001b[0;32m~/miniconda3/envs/microphy/lib/python3.12/site-packages/xarray/groupers.py:526\u001b[0m, in \u001b[0;36mTimeResampler.factorize\u001b[0;34m(self, group)\u001b[0m\n\u001b[1;32m    525\u001b[0m \u001b[38;5;28;01mdef\u001b[39;00m\u001b[38;5;250m \u001b[39m\u001b[38;5;21mfactorize\u001b[39m(\u001b[38;5;28mself\u001b[39m, group: T_Group) \u001b[38;5;241m-\u001b[39m\u001b[38;5;241m>\u001b[39m EncodedGroups:\n\u001b[0;32m--> 526\u001b[0m     \u001b[38;5;28;43mself\u001b[39;49m\u001b[38;5;241;43m.\u001b[39;49m\u001b[43m_init_properties\u001b[49m\u001b[43m(\u001b[49m\u001b[43mgroup\u001b[49m\u001b[43m)\u001b[49m\n\u001b[1;32m    527\u001b[0m     full_index, first_items, codes_ \u001b[38;5;241m=\u001b[39m \u001b[38;5;28mself\u001b[39m\u001b[38;5;241m.\u001b[39m_get_index_and_items()\n\u001b[1;32m    528\u001b[0m     sbins \u001b[38;5;241m=\u001b[39m first_items\u001b[38;5;241m.\u001b[39mvalues\u001b[38;5;241m.\u001b[39mastype(np\u001b[38;5;241m.\u001b[39mint64)\n",
      "File \u001b[0;32m~/miniconda3/envs/microphy/lib/python3.12/site-packages/xarray/groupers.py:468\u001b[0m, in \u001b[0;36mTimeResampler._init_properties\u001b[0;34m(self, group)\u001b[0m\n\u001b[1;32m    464\u001b[0m offset \u001b[38;5;241m=\u001b[39m \u001b[38;5;28mself\u001b[39m\u001b[38;5;241m.\u001b[39moffset\n\u001b[1;32m    466\u001b[0m \u001b[38;5;28;01mif\u001b[39;00m \u001b[38;5;129;01mnot\u001b[39;00m group_as_index\u001b[38;5;241m.\u001b[39mis_monotonic_increasing:\n\u001b[1;32m    467\u001b[0m     \u001b[38;5;66;03m# TODO: sort instead of raising an error\u001b[39;00m\n\u001b[0;32m--> 468\u001b[0m     \u001b[38;5;28;01mraise\u001b[39;00m \u001b[38;5;167;01mValueError\u001b[39;00m(\u001b[38;5;124m\"\u001b[39m\u001b[38;5;124mIndex must be monotonic for resampling\u001b[39m\u001b[38;5;124m\"\u001b[39m)\n\u001b[1;32m    470\u001b[0m \u001b[38;5;28;01mif\u001b[39;00m \u001b[38;5;28misinstance\u001b[39m(group_as_index, CFTimeIndex):\n\u001b[1;32m    471\u001b[0m     \u001b[38;5;28;01mfrom\u001b[39;00m\u001b[38;5;250m \u001b[39m\u001b[38;5;21;01mxarray\u001b[39;00m\u001b[38;5;21;01m.\u001b[39;00m\u001b[38;5;21;01mcore\u001b[39;00m\u001b[38;5;21;01m.\u001b[39;00m\u001b[38;5;21;01mresample_cftime\u001b[39;00m\u001b[38;5;250m \u001b[39m\u001b[38;5;28;01mimport\u001b[39;00m CFTimeGrouper\n",
      "\u001b[0;31mValueError\u001b[0m: Index must be monotonic for resampling"
     ]
    }
   ],
   "source": [
    "# resample cdp data with mean()\n",
    "# Test with resampled cdp data\n",
    "\n",
    "cdp_ds\n",
    "lwc_da = cdp_ds['LWC corr'].resample(time='5s').mean() # resample\n",
    "\n",
    "lwc_da"
   ]
  },
  {
   "cell_type": "code",
   "execution_count": 5,
   "id": "f722d6ff-06c5-4f4b-a4d0-716aa49e4b4e",
   "metadata": {},
   "outputs": [],
   "source": [
    "#  Remove milliseconds to ease joining\n",
    "cdp_ds = functions.floor_to_sec_res(cdp_ds, 'time')\n",
    "cip_ds = functions.floor_to_sec_res(cip_ds, 'time')\n",
    "# remove any unwanted duplicate values from cdp\n",
    "cdp_ds = cdp_ds.sel(time=~cdp_ds.get_index(\"time\").duplicated())"
   ]
  },
  {
   "cell_type": "code",
   "execution_count": 6,
   "id": "29c03461-e747-436d-95d2-0b6676210eee",
   "metadata": {},
   "outputs": [],
   "source": [
    "# check for duplicates\n",
    "#cdp_ds.sel(time=cdp_ds.get_index('time').duplicated())"
   ]
  },
  {
   "cell_type": "code",
   "execution_count": 7,
   "id": "38faf8d0-a42d-494b-be5b-858b157b4bf7",
   "metadata": {},
   "outputs": [],
   "source": [
    "\n",
    "# merge the two xarrays\n",
    "microphy_ds = xr.merge([cip_ds, cdp_ds],compat='override',join='left')\n",
    "\n",
    "# update attrs for variables with parent file\n",
    "for var_name in cdp_ds.data_vars:\n",
    "    microphy_ds[var_name].attrs.update({\"parent file\":cdp_file.split('/')[-1]})\n",
    "for var_name in cip_ds.data_vars:\n",
    "    microphy_ds[var_name].attrs.update({\"parent file\":cip_file.split('/')[-1]})\n",
    "\n"
   ]
  },
  {
   "cell_type": "code",
   "execution_count": 8,
   "id": "fba5abf8-5e8e-4c76-9a08-962e6d5161f5",
   "metadata": {},
   "outputs": [],
   "source": [
    "# remove dataset attributes\n",
    "microphy_ds =microphy_ds.drop_attrs(deep = False)\n",
    "\n",
    "# set new dataset attributes\n",
    "microphy_ds.attrs['safireid']=cip_ds.attrs['safireid']\n",
    "microphy_ds.attrs['islasid']=cip_ds.attrs['islasid']\n",
    "microphy_ds.attrs['parent files']=[cip_file.split('/')[-1],cdp_file.split('/')[-1]]\n",
    "microphy_ds.attrs['date_modified'] = date.today().strftime(\"%Y-%m-%d\")"
   ]
  },
  {
   "cell_type": "code",
   "execution_count": 9,
   "id": "a7c984d3-3eed-4d07-9011-d2250b6be02a",
   "metadata": {},
   "outputs": [],
   "source": [
    "# calculate Total Water content\n",
    "microphy_ds['TWC'] = microphy_ds['LWC corr']+microphy_ds['IWC100']\n",
    "microphy_ds['TWC'].attrs['longname']='Total Water Content'\n",
    "microphy_ds['TWC'].attrs['description']='TWC calculated from CIP IWC and CDP LWC, assuming all WC from CIP is ice and all WC from CDP is water'\n",
    "microphy_ds['TWC'].attrs['calculated from']=['LWC corr','IWC100']\n",
    "\n",
    "\n",
    "# Calculate supercooled liquid fraction for in-cloud values\n",
    "microphy_ds.attrs['incloud_thres']= 0.01\n",
    "import numpy as np\n",
    "microphy_ds['SLF_all'] = microphy_ds['LWC corr']/microphy_ds['TWC']*100\n",
    "microphy_ds['SLF_all'].attrs['longname']='Supercooled liquid fraction, all points'\n",
    "microphy_ds['SLF_all'].attrs['unit']='percent'\n",
    "microphy_ds['SLF_all'].attrs['description']='Supercooled liquid fraction for all observation points, calculated from the Total water content and the Liquid water content'\n",
    "microphy_ds['SLF_all'].attrs['calculated from']=['LWC corr', 'TWC']\n",
    "\n",
    "microphy_ds['SLF'] = xr.where(microphy_ds['LWC corr']>microphy_ds.attrs['incloud_thres'],microphy_ds['SLF_all'],np.nan)\n",
    "microphy_ds['SLF'].attrs['longname']='Supercooled liquid fraction, incloud LWC threshold'\n",
    "microphy_ds['SLF'].attrs['unit']='percent'\n",
    "microphy_ds['SLF'].attrs['description']='Supercooled liquid fraction for points where LWC above threshold, calculated from the Total water content and the Liquid water content'\n",
    "microphy_ds['SLF'].attrs['calculated from']=['LWC corr', 'SLF_all', 'incloud_thres']\n",
    "\n",
    "microphy_ds['SLF_twc'] = xr.where(microphy_ds['TWC']>microphy_ds.attrs['incloud_thres'],microphy_ds['SLF_all'],np.nan)\n",
    "microphy_ds['SLF_twc'].attrs['longname']='Supercooled liquid fraction, incloud TWC threshold'\n",
    "microphy_ds['SLF_twc'].attrs['unit']='percent'\n",
    "microphy_ds['SLF_twc'].attrs['description']='Supercooled liquid fraction for points where TWC above threshold, calculated from the Total water content and the Liquid water content'\n",
    "microphy_ds['SLF_twc'].attrs['calculated from']=['SLF_all', 'TWC', 'incloud_thres']"
   ]
  },
  {
   "cell_type": "code",
   "execution_count": 10,
   "id": "d659e48c-8187-4913-a332-4149e325be2f",
   "metadata": {},
   "outputs": [],
   "source": [
    "# setting surface conditions\n",
    "from global_land_mask import globe\n",
    "sea_ice_file = ''\n",
    "\n",
    "# determine lan/sea distinction from global_land_mask\n",
    "condition = globe.is_land(microphy_ds['lat'].values[:, np.newaxis], microphy_ds['lon'].values)\n",
    "surface_cond = xr.where(condition, 'land', 'sea')\n",
    "microphy_ds['surface_cond']= (('lat','lon'), surface_cond)\n",
    "\n",
    "# set attributes for the surface conditions\n",
    "microphy_ds['surface_cond'].attrs['longname']='Surface conditions'\n",
    "microphy_ds['surface_cond'].attrs['standard_name']='area_type'\n",
    "microphy_ds['surface_cond'].attrs['description']= 'Nature of surface below measurements. Land and sea is determined by global_land_mask package, sea ice from satellite observations'\n",
    "microphy_ds['surface_cond'].attrs['sea_ice_file']= sea_ice_file\n"
   ]
  },
  {
   "cell_type": "code",
   "execution_count": 11,
   "id": "a7ebca75-12d9-419c-956b-089ddd240433",
   "metadata": {},
   "outputs": [],
   "source": [
    "# Get sea ice concentation\n",
    "#date = str(microphy_ds.time[0].values.astype('datetime64[D]')).replace('-', '')\n",
    "#date\n",
    "\n",
    "#sic_ds = xr.open_dataset('sea_ice_satellite/asi-n6250-' + str(date) + '-5.4_regridded.nc')\n",
    "#sic_ds.close()\n",
    "\n",
    "# rename data variable and update attributes\n",
    "#sic_ds['sic'] = sic_ds['__xarray_dataarray_variable__'].assign_attrs(units=\"Percent\", description=\"Sea Ice Concentration\")\n",
    "#sic_ds = sic_ds.drop_vars(['__xarray_dataarray_variable__'])\n",
    "\n",
    "#test = sic_ds['sic'].sel(lat=('lat', microphy_ds.lat),lon=('lon',microphy_ds.lon), method='nearest')\n",
    "#test\n",
    "#microphy_ds['sic']=sic_ds.sel(lat=microphy_ds.lat, lon=microphy_ds.lon, method='nearest')"
   ]
  },
  {
   "cell_type": "code",
   "execution_count": 12,
   "id": "fa45c457-fed3-4a81-b96a-058a6153e41a",
   "metadata": {},
   "outputs": [
    {
     "data": {
      "text/plain": [
       "<bound method DataWithCoords.close of <xarray.Dataset> Size: 6MB\n",
       "Dimensions:                 (time: 11461, CDP_Bin: 30)\n",
       "Coordinates:\n",
       "    lat                     (time) float32 46kB ...\n",
       "    lon                     (time) float32 46kB ...\n",
       "    alt                     (time) float32 46kB ...\n",
       "  * CDP_Bin                 (CDP_Bin) int64 240B 1 2 3 4 5 6 ... 26 27 28 29 30\n",
       "  * time                    (time) datetime64[ns] 92kB 2022-03-30T13:58:54 .....\n",
       "Data variables: (12/34)\n",
       "    End Seconds             (time) float64 92kB ...\n",
       "    Day of Year             (time) float64 92kB ...\n",
       "    Year                    (time) float64 92kB ...\n",
       "    Status                  (time) float64 92kB ...\n",
       "    DOF Reject Counts       (time) float64 92kB ...\n",
       "    Avg Transit Reject      (time) float64 92kB ...\n",
       "    ...                      ...\n",
       "    CDP Bin Particle Count  (time, CDP_Bin) float64 3MB ...\n",
       "    TAS reduce              (time) float32 46kB ...\n",
       "    TAS correction factor   (time) float64 92kB ...\n",
       "    Number Conc corr        (time) float64 92kB ...\n",
       "    LWC corr                (time) float64 92kB ...\n",
       "    SV                      (time) float32 46kB ...\n",
       "Attributes: (12/33)\n",
       "    description:                       Updated CDP data from a single flight ...\n",
       "    safireid:                          as220012\n",
       "    islasid:                           IS22-08\n",
       "    source files:                      ['02CDP 20220330135853.csv', '02CDP 20...\n",
       "    PADS version:                      4.03.03\n",
       "    CDP version:                       4.03.02\n",
       "    ...                                ...\n",
       "    Baud Rate:                         57600\n",
       "    PAS Source:                        0\n",
       "    GPS Available:                     FALSE\n",
       "    Sample Time:                       1 sec (1 Hz)\n",
       "    Sample Time (sec):                 1\n",
       "    Housekeeping channel description:  The first 8 channels in the original d...>"
      ]
     },
     "execution_count": 12,
     "metadata": {},
     "output_type": "execute_result"
    }
   ],
   "source": [
    "# write to netcdf file\n",
    "microphy_ds.to_netcdf(path=f'../Results_2022-islas/Processed/ISLAS_processed/microphy_5s_{flight}.nc', mode='w')\n",
    "cip_ds.close\n",
    "cdp_ds.close"
   ]
  },
  {
   "cell_type": "code",
   "execution_count": null,
   "id": "72289938-5274-4fa0-af43-bb236021ca58",
   "metadata": {},
   "outputs": [],
   "source": []
  }
 ],
 "metadata": {
  "kernelspec": {
   "display_name": "Python 3 (ipykernel)",
   "language": "python",
   "name": "python3"
  },
  "language_info": {
   "codemirror_mode": {
    "name": "ipython",
    "version": 3
   },
   "file_extension": ".py",
   "mimetype": "text/x-python",
   "name": "python",
   "nbconvert_exporter": "python",
   "pygments_lexer": "ipython3",
   "version": "3.12.8"
  }
 },
 "nbformat": 4,
 "nbformat_minor": 5
}
