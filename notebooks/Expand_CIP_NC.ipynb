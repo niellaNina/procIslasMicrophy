{
 "cells": [
  {
   "cell_type": "markdown",
   "id": "67b86936-a604-46a4-86ec-7d479c2ba69e",
   "metadata": {},
   "source": [
    "## Expanding the CIP netCDFfiles and adding data from nav files\n",
    "\n"
   ]
  },
  {
   "cell_type": "code",
   "execution_count": 6,
   "id": "847140e4-3736-4e10-8f45-751e7de5bbaf",
   "metadata": {},
   "outputs": [
    {
     "ename": "ModuleNotFoundError",
     "evalue": "No module named 'scripts'",
     "output_type": "error",
     "traceback": [
      "\u001b[0;31m---------------------------------------------------------------------------\u001b[0m",
      "\u001b[0;31mModuleNotFoundError\u001b[0m                       Traceback (most recent call last)",
      "Cell \u001b[0;32mIn[6], line 6\u001b[0m\n\u001b[1;32m      3\u001b[0m \u001b[38;5;28;01mimport\u001b[39;00m\u001b[38;5;250m \u001b[39m\u001b[38;5;21;01mos\u001b[39;00m \u001b[38;5;66;03m#get a list of all directories/files\u001b[39;00m\n\u001b[1;32m      4\u001b[0m \u001b[38;5;28;01mimport\u001b[39;00m\u001b[38;5;250m \u001b[39m\u001b[38;5;21;01mre\u001b[39;00m \u001b[38;5;66;03m#regex\u001b[39;00m\n\u001b[0;32m----> 6\u001b[0m \u001b[38;5;28;01mfrom\u001b[39;00m\u001b[38;5;250m \u001b[39m\u001b[38;5;21;01mscripts\u001b[39;00m\u001b[38;5;21;01m.\u001b[39;00m\u001b[38;5;21;01mfunc_nc\u001b[39;00m\u001b[38;5;250m \u001b[39m\u001b[38;5;28;01mimport\u001b[39;00m nc_save_with_check\n\u001b[1;32m      7\u001b[0m \u001b[38;5;28;01mfrom\u001b[39;00m\u001b[38;5;250m \u001b[39m\u001b[38;5;21;01mscripts\u001b[39;00m\u001b[38;5;21;01m.\u001b[39;00m\u001b[38;5;21;01mupdate_cip_nc\u001b[39;00m\u001b[38;5;250m \u001b[39m\u001b[38;5;28;01mimport\u001b[39;00m standardize_cip_netcdf\n",
      "\u001b[0;31mModuleNotFoundError\u001b[0m: No module named 'scripts'"
     ]
    }
   ],
   "source": [
    "import xarray as xr # read netcdf-files\n",
    "import glob # allows for wildcards in filemanagement\n",
    "import os #get a list of all directories/files\n",
    "import re #regex\n",
    "\n",
    "from scripts.func_nc import nc_save_with_check\n",
    "from scripts.update_cip_nc import standardize_cip_netcdf"
   ]
  },
  {
   "cell_type": "code",
   "execution_count": 108,
   "id": "f204ab3e",
   "metadata": {},
   "outputs": [],
   "source": [
    "# sample rate to process (current possibilities: 1,5,12 sek)\n",
    "sample_rate = 1"
   ]
  },
  {
   "cell_type": "code",
   "execution_count": 109,
   "id": "a0443c8d-aca4-477d-99d7-a37962632f6a",
   "metadata": {},
   "outputs": [],
   "source": [
    "# -- Paths to datafiles\n",
    "# Local disk path to nav data:\n",
    "nav_main_path = '../2022-islas/' # directory with flight data\n",
    "nav_file_struct_tdyn = '/*_TDYN_*.nc' # structure of nav TDYN file names\n",
    "nav_file_struct_nav = '/*_NAV_*.nc' # structure of nav NAV file names\n",
    "drop_flights = ['as220005','as220006'] # flights to drop, (if not all are to be analysed 5 and 6 is in france)\n",
    "    \n",
    "# Local disk path to SODA processed CIP files\n",
    "cip_main_path = f'../Results_2022-islas/{sample_rate}sAveraging/'\n",
    "cip_file_struct = '/*CIP.nc'\n",
    "\n",
    "# Save file path\n",
    "save_path = '../Results_2022-islas/Processed/CIP_processed/'"
   ]
  },
  {
   "cell_type": "code",
   "execution_count": 110,
   "id": "6a59a669",
   "metadata": {},
   "outputs": [],
   "source": [
    "# -- Get foldernames that are flights (valid in both nav_main_path and cip_main_part)    \n",
    "# regex for only using folders that are flights\n",
    "patt = re.compile(r\"as2200\\d{2}\") # flights have the pattern as2200 + 2 digits\n",
    "     \n",
    "flights = [\n",
    "    f for f in os.listdir(nav_main_path) \n",
    "    if os.path.isdir(os.path.join(nav_main_path, f)) and patt.fullmatch(f)\n",
    "    ]\n",
    "     \n",
    "# remove flights to drop using listcomprehension\n",
    "flights = [i for i in flights if i not in drop_flights] # list of folders/flights\n",
    "\n",
    "# safireid-islasid dictionary\n",
    "safire_to_islas = {\n",
    "    'as220007':'IS22-02',\n",
    "    'as220008':['IS22-03','IS22-04'],\n",
    "    'as220009':'IS22-05',\n",
    "    'as220010':'IS22-06',\n",
    "    'as220011':'IS22-07',\n",
    "    'as220012':'IS22-08',\n",
    "    'as220013':'IS22-09',\n",
    "    'as220014':'IS22-10',\n",
    "    'as220015':'IS22-11'\n",
    "    }"
   ]
  },
  {
   "cell_type": "code",
   "execution_count": 111,
   "id": "89cffbbd",
   "metadata": {},
   "outputs": [
    {
     "name": "stdout",
     "output_type": "stream",
     "text": [
      "Reading: ../Results_2022-islas/1sAveraging/as220014/04032022_071513_CIP.nc and ../2022-islas/as220014/ISLAS_SAFIRE-ATR42_CORE_TDYN_1HZ_20220403_as220014_L1_V1.nc\n",
      "Saving to ../Results_2022-islas/Processed/CIP_processed/CIP_update_1s_IS22-10.nc\n",
      "Reading: ../Results_2022-islas/1sAveraging/as220009/03262022_080110_CIP.nc and ../2022-islas/as220009/ISLAS_SAFIRE-ATR42_CORE_TDYN_1HZ_20220326_as220009_L1_V1.nc\n",
      "Saving to ../Results_2022-islas/Processed/CIP_processed/CIP_update_1s_IS22-05.nc\n",
      "Reading: ../Results_2022-islas/1sAveraging/as220010/03262022_145034_CIP.nc and ../2022-islas/as220010/ISLAS_SAFIRE-ATR42_CORE_TDYN_1HZ_20220326_as220010_L1_V1.nc\n",
      "Saving to ../Results_2022-islas/Processed/CIP_processed/CIP_update_1s_IS22-06.nc\n",
      "Reading: ../Results_2022-islas/1sAveraging/as220007/03222022_113721_CIP.nc and ../2022-islas/as220007/ISLAS_SAFIRE-ATR42_CORE_TDYN_1HZ_20220322_as220007_L1_V1.nc\n",
      "Saving to ../Results_2022-islas/Processed/CIP_processed/CIP_update_1s_IS22-02.nc\n",
      "Reading: ../Results_2022-islas/1sAveraging/as220015/04032022_123844_CIP.nc and ../2022-islas/as220015/ISLAS_SAFIRE-ATR42_CORE_TDYN_1HZ_20220403_as220015_L1_V1.nc\n",
      "Saving to ../Results_2022-islas/Processed/CIP_processed/CIP_update_1s_IS22-11.nc\n",
      "Reading: ../Results_2022-islas/1sAveraging/as220008/IS22-03/03242022_080425_CIP.nc and ../2022-islas/as220008/ISLAS_SAFIRE-ATR42_CORE_TDYN_1HZ_20220324_as220008_L1_V1.nc\n",
      "Saving to ../Results_2022-islas/Processed/CIP_processed/CIP_update_1s_IS22-03.nc\n",
      "Reading: ../Results_2022-islas/1sAveraging/as220008/IS22-04/03242022_130925_CIP.nc and ../2022-islas/as220008/ISLAS_SAFIRE-ATR42_CORE_TDYN_1HZ_20220324_as220008_L1_V1.nc\n",
      "Saving to ../Results_2022-islas/Processed/CIP_processed/CIP_update_1s_IS22-04.nc\n",
      "Reading: ../Results_2022-islas/1sAveraging/as220013/03312022_093432_CIP.nc and ../2022-islas/as220013/ISLAS_SAFIRE-ATR42_CORE_TDYN_1HZ_20220331_as220013_L1_V1.nc\n",
      "Saving to ../Results_2022-islas/Processed/CIP_processed/CIP_update_1s_IS22-09.nc\n",
      "Reading: ../Results_2022-islas/1sAveraging/as220011/03292022_081437_CIP.nc and ../2022-islas/as220011/ISLAS_SAFIRE-ATR42_CORE_TDYN_1HZ_20220329_as220011_L1_V1.nc\n",
      "Saving to ../Results_2022-islas/Processed/CIP_processed/CIP_update_1s_IS22-07.nc\n",
      "Reading: ../Results_2022-islas/1sAveraging/as220012/03302022_134849_CIP.nc and ../2022-islas/as220012/ISLAS_SAFIRE-ATR42_CORE_TDYN_1HZ_20220330_as220012_L1_V1.nc\n",
      "Saving to ../Results_2022-islas/Processed/CIP_processed/CIP_update_1s_IS22-08.nc\n"
     ]
    }
   ],
   "source": [
    "# Process all flights in the folders\n",
    "for flight in flights:\n",
    "    # ---- Get CDP and NAV data from flight\n",
    "    if flight == 'as220008':\n",
    "        nav_file = glob.glob(nav_main_path + flight + nav_file_struct_tdyn) \n",
    "        # flight with safireid as 220008 has two islasids and must be addressed separately:\n",
    "        for islasid in safire_to_islas['as220008']:\n",
    "            cip_file = glob.glob(cip_main_path + flight + f'/{islasid}' + cip_file_struct) \n",
    "            print(f'Reading: {cip_file[0]} and {nav_file[0]}')\n",
    "            cip_updated_xds = standardize_cip_netcdf(cip_file[0], nav_file[0], islasid)\n",
    "\n",
    "            # save to new netCDF\n",
    "            savefile = save_path + f'CIP_update_{sample_rate}s_{islasid}.nc'\n",
    "            nc_save_with_check(savefile, cip_updated_xds)\n",
    "\n",
    "            \n",
    "    else:\n",
    "        nav_file = glob.glob(nav_main_path + flight + nav_file_struct_tdyn) \n",
    "        cip_file = glob.glob(cip_main_path + flight + cip_file_struct) # returns a list, must access with file[0]\n",
    "        #cip_xds = xr.open_dataset(cip_file) # returns an xarray dataset\n",
    "        print(f'Reading: {cip_file[0]} and {nav_file[0]}')\n",
    "        islasid = safire_to_islas[flight]\n",
    "        cip_updated_xds = standardize_cip_netcdf(cip_file[0], nav_file[0], islasid)\n",
    "\n",
    "        #Save to new netCDF\n",
    "        savefile = save_path + f'CIP_update_{sample_rate}s_{islasid}.nc'      \n",
    "        nc_save_with_check(savefile, cip_updated_xds)"
   ]
  }
 ],
 "metadata": {
  "kernelspec": {
   "display_name": "microphy",
   "language": "python",
   "name": "python3"
  },
  "language_info": {
   "codemirror_mode": {
    "name": "ipython",
    "version": 3
   },
   "file_extension": ".py",
   "mimetype": "text/x-python",
   "name": "python",
   "nbconvert_exporter": "python",
   "pygments_lexer": "ipython3",
   "version": "3.12.8"
  }
 },
 "nbformat": 4,
 "nbformat_minor": 5
}
